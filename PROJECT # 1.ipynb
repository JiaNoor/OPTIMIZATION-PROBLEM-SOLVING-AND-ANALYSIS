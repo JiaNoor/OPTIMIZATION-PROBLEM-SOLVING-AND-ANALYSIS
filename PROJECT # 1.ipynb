{
 "cells": [
  {
   "cell_type": "markdown",
   "id": "4ea221ee-d348-4c3d-9226-23a5bb0ac336",
   "metadata": {},
   "source": [
    "# importing necessary libraries\n"
   ]
  },
  {
   "cell_type": "code",
   "execution_count": 8,
   "id": "83960dba-5424-4423-a1cf-6fa83361ba71",
   "metadata": {},
   "outputs": [],
   "source": [
    "import numpy as np\n",
    "import random \n",
    "from qpsolvers import solve_qp\n",
    "import matplotlib.pyplot as plt"
   ]
  },
  {
   "cell_type": "code",
   "execution_count": 2,
   "id": "6fd9171c-b790-41ce-a66d-6bb67c45a36e",
   "metadata": {},
   "outputs": [],
   "source": [
    "n = 10\n",
    "dig1 = 0  # replace with second-to-last digit of your registration number\n",
    "dig2 = 0  # replace with last digit of your registration number\n",
    "\n",
    "dummyrepetitions = 10 * dig1 + dig2\n",
    "for _ in range(dummyrepetitions):\n",
    "    dummy = random.uniform(0, 1)\n",
    "\n",
    "Corr = np.array([[0] * n for _ in range(n)], dtype=float)\n",
    "for i in range(n):\n",
    "    for j in range(n):\n",
    "        Corr[i][j] = (-1)**abs(i - j) / (abs(i - j) + 1)\n",
    "\n",
    "ssigma = np.array([0] * n, dtype=float)\n",
    "mmu = np.array([0] * n, dtype=float)\n",
    "ssigma[0] = 2\n",
    "mmu[0] = 3\n",
    "for i in range(n - 1):\n",
    "    ssigma[i + 1] = ssigma[i] + 2 * random.uniform(0, 1)\n",
    "    mmu[i + 1] = mmu[i] + 1\n",
    "\n",
    "ddiag = np.diag(ssigma)\n",
    "C2 = ddiag @ Corr @ ddiag\n",
    "C = 0.5 * (C2 + C2.T)\n"
   ]
  },
  {
   "cell_type": "code",
   "execution_count": 5,
   "id": "bada2588-298a-4c55-8540-d41af8bf30a3",
   "metadata": {},
   "outputs": [],
   "source": [
    "from qpsolvers import solve_qp"
   ]
  },
  {
   "cell_type": "code",
   "execution_count": 7,
   "id": "90dc69b1-f136-4b25-b7e8-828b3c09fadb",
   "metadata": {},
   "outputs": [
    {
     "ename": "SyntaxError",
     "evalue": "invalid syntax (1058047979.py, line 1)",
     "output_type": "error",
     "traceback": [
      "\u001b[1;36m  Cell \u001b[1;32mIn[7], line 1\u001b[1;36m\u001b[0m\n\u001b[1;33m    def solve_markowitz(C, mu, 2):\u001b[0m\n\u001b[1;37m                               ^\u001b[0m\n\u001b[1;31mSyntaxError\u001b[0m\u001b[1;31m:\u001b[0m invalid syntax\n"
     ]
    }
   ],
   "source": [
    "def solve_markowitz(C, mu, r_values):\n",
    "    n = len(mu)\n",
    "    solutions = []\n",
    "    for r in r_values:\n",
    "        P = C\n",
    "        q = np.zeros(n)\n",
    "        G = -np.eye(n)\n",
    "        h = np.zeros(n)\n",
    "        A = np.vstack([mu, np.ones(n)])\n",
    "        b = np.array([r, 1])\n",
    "        x = solve_qp(P, q, G, h, A, b)\n",
    "        solutions.append(x)\n",
    "    return solutions\n",
    "\n",
    "r_values = np.arange(2.00, 9.25, 0.25)\n",
    "solutions = solve_markowitz(C, mmu, r_values)"
   ]
  },
  {
   "cell_type": "code",
   "execution_count": null,
   "id": "947e9a90-70ab-42eb-a5a9-ee0f77776e75",
   "metadata": {},
   "outputs": [],
   "source": []
  }
 ],
 "metadata": {
  "kernelspec": {
   "display_name": "Python 3 (ipykernel)",
   "language": "python",
   "name": "python3"
  },
  "language_info": {
   "codemirror_mode": {
    "name": "ipython",
    "version": 3
   },
   "file_extension": ".py",
   "mimetype": "text/x-python",
   "name": "python",
   "nbconvert_exporter": "python",
   "pygments_lexer": "ipython3",
   "version": "3.12.1"
  }
 },
 "nbformat": 4,
 "nbformat_minor": 5
}
